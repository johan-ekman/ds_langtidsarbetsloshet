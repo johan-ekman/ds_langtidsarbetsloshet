{
 "cells": [
  {
   "cell_type": "code",
   "execution_count": 1,
   "metadata": {},
   "outputs": [],
   "source": [
    "import pandas as pd\n",
    "\n",
    "import os\n",
    "import warnings\n",
    "warnings.filterwarnings('ignore')"
   ]
  },
  {
   "cell_type": "markdown",
   "metadata": {},
   "source": [
    "Februari 2019\n",
    "\n",
    "Vi funderade på en idé till vår trendsida och fastnade för [Stockholms Handelskammares siffror](https://www.chamber.se/rapporter/kompetenskrisen-hotar-foretagen.htm) på brist på kompetens som leder till ständiga vakanser på Stockholms arbetsmarknad. En siffra i rapporten är att man pga 14.000 ständiga vakanser missar 16 mdr i skatteintäkter per år i regionen. Men regionsuppdelningen var inte vad vi ville och de regionala siffrorna var dessvärre inte vad vi önskade.\n",
    "\n",
    "Istället fastnade vi för arbetslöshetssiffror. Och då mer specifikt långtidsarbetslösa i relation till gruppen arbetslösa i stort. I Handelskammarens rapport kunde man läsa att långtidsarbetslösa idag är 40 procent av alla öppet arbetslösa, inskrivna hos arbetsförmedlingen i Stockholm. Vi bestämde oss därför kolla hur det ser ut i alla kommuner i denna relation. Hur ser andelen långtidsarbetslösa av totalt antal öppet arbetslösa ut per kommun? Hur stor andel av den arbetsföra befolkningen (16-64 år) är långtidsarbetslös?"
   ]
  },
  {
   "cell_type": "markdown",
   "metadata": {},
   "source": [
    "---"
   ]
  },
  {
   "cell_type": "markdown",
   "metadata": {},
   "source": [
    "**Resultatet av följande rek publicerades i tidningen 21 februari 2019, och finns att hitta [på webben här!](https://www.dagenssamhalle.se/nyhet/langtidsarbetslosa-storsta-utmaningen-26328)**"
   ]
  },
  {
   "cell_type": "markdown",
   "metadata": {},
   "source": [
    "---"
   ]
  },
  {
   "cell_type": "markdown",
   "metadata": {},
   "source": [
    "Siffrorna kommer från Arbetsförmedlingen där jag fick hjälp av en otroligt treliv handläggare. Det var han som skickade grunddatafilerna till mig!"
   ]
  },
  {
   "cell_type": "markdown",
   "metadata": {},
   "source": [
    "Efter samtal med Arbetsförmedlingen så har jag fått reda på några viktiga grejer:\n",
    "\n",
    "1. De som står som \"summa\" är alla inskrivna öppet arbetslösa. Dessa kan vara i utbildningar, praktik eller andra program som _INTE_ innebär subventionerade anställningar. Man jobbar med andra ord inte avlönat.\n",
    "2. Långtidsarbetslös är när man varit inskriven hos arbetsförmedlingen som öppet arbetslös i 12 månader eller längre.\n",
    "3. Eftersom antalet öppet arbetslösa kan variera så löpandes månad till månad kan en ranking av måttet långtidsarbetslösa som andel av totalen bli orättvist. Bättre är att jämföra med befolkningen i arbetsför ålder."
   ]
  },
  {
   "cell_type": "markdown",
   "metadata": {},
   "source": [
    "### Kommunerna"
   ]
  },
  {
   "cell_type": "code",
   "execution_count": 2,
   "metadata": {},
   "outputs": [],
   "source": [
    "df = pd.read_csv('data/inskrivna_arbetslösa_kön_ålder_2006-2018.txt',sep=',',encoding='iso-8859-1')"
   ]
  },
  {
   "cell_type": "code",
   "execution_count": 3,
   "metadata": {},
   "outputs": [
    {
     "data": {
      "text/plain": [
       "(215107, 9)"
      ]
     },
     "execution_count": 3,
     "metadata": {},
     "output_type": "execute_result"
    }
   ],
   "source": [
    "df.shape"
   ]
  },
  {
   "cell_type": "code",
   "execution_count": 4,
   "metadata": {},
   "outputs": [],
   "source": [
    "df.columns = df.columns.str.replace('\\(','_').str.replace('\\)','').str.lower()"
   ]
  },
  {
   "cell_type": "code",
   "execution_count": 5,
   "metadata": {},
   "outputs": [],
   "source": [
    "df = df.groupby(['period','kommun_beskr']).sum().reset_index()"
   ]
  },
  {
   "cell_type": "code",
   "execution_count": 6,
   "metadata": {},
   "outputs": [
    {
     "data": {
      "text/html": [
       "<div>\n",
       "<style scoped>\n",
       "    .dataframe tbody tr th:only-of-type {\n",
       "        vertical-align: middle;\n",
       "    }\n",
       "\n",
       "    .dataframe tbody tr th {\n",
       "        vertical-align: top;\n",
       "    }\n",
       "\n",
       "    .dataframe thead th {\n",
       "        text-align: right;\n",
       "    }\n",
       "</style>\n",
       "<table border=\"1\" class=\"dataframe\">\n",
       "  <thead>\n",
       "    <tr style=\"text-align: right;\">\n",
       "      <th></th>\n",
       "      <th>period</th>\n",
       "      <th>kommun_beskr</th>\n",
       "      <th>sum_insal</th>\n",
       "      <th>sum_ua06</th>\n",
       "      <th>sum_ua12</th>\n",
       "      <th>sum_ua24</th>\n",
       "    </tr>\n",
       "  </thead>\n",
       "  <tbody>\n",
       "    <tr>\n",
       "      <th>0</th>\n",
       "      <td>2006-01</td>\n",
       "      <td>Ale</td>\n",
       "      <td>847</td>\n",
       "      <td>383</td>\n",
       "      <td>207</td>\n",
       "      <td>83</td>\n",
       "    </tr>\n",
       "    <tr>\n",
       "      <th>1</th>\n",
       "      <td>2006-01</td>\n",
       "      <td>Alingsås</td>\n",
       "      <td>1202</td>\n",
       "      <td>506</td>\n",
       "      <td>273</td>\n",
       "      <td>112</td>\n",
       "    </tr>\n",
       "    <tr>\n",
       "      <th>2</th>\n",
       "      <td>2006-01</td>\n",
       "      <td>Alvesta</td>\n",
       "      <td>474</td>\n",
       "      <td>197</td>\n",
       "      <td>94</td>\n",
       "      <td>31</td>\n",
       "    </tr>\n",
       "    <tr>\n",
       "      <th>3</th>\n",
       "      <td>2006-01</td>\n",
       "      <td>Aneby</td>\n",
       "      <td>188</td>\n",
       "      <td>62</td>\n",
       "      <td>26</td>\n",
       "      <td>7</td>\n",
       "    </tr>\n",
       "    <tr>\n",
       "      <th>4</th>\n",
       "      <td>2006-01</td>\n",
       "      <td>Arboga</td>\n",
       "      <td>589</td>\n",
       "      <td>267</td>\n",
       "      <td>159</td>\n",
       "      <td>59</td>\n",
       "    </tr>\n",
       "  </tbody>\n",
       "</table>\n",
       "</div>"
      ],
      "text/plain": [
       "    period kommun_beskr  sum_insal  sum_ua06  sum_ua12  sum_ua24\n",
       "0  2006-01          Ale        847       383       207        83\n",
       "1  2006-01     Alingsås       1202       506       273       112\n",
       "2  2006-01      Alvesta        474       197        94        31\n",
       "3  2006-01        Aneby        188        62        26         7\n",
       "4  2006-01       Arboga        589       267       159        59"
      ]
     },
     "execution_count": 6,
     "metadata": {},
     "output_type": "execute_result"
    }
   ],
   "source": [
    "df.head()"
   ]
  },
  {
   "cell_type": "markdown",
   "metadata": {},
   "source": [
    "Efter samtal med Johan Eklöf har jag fått reda på att inkluderat i siffrorna för de som varit utan arbete i längre än 6 månader (sum_ua06) är också de som varit utan arbete 12 och 24 månader. Dessa tre kolumner ska alltså tolkas som \"utan arbete X månader eller längre\" och kan därför inte summeras."
   ]
  },
  {
   "cell_type": "code",
   "execution_count": 7,
   "metadata": {},
   "outputs": [],
   "source": [
    "df = df.loc[df['period'].str.contains(\"-01\")]"
   ]
  },
  {
   "cell_type": "markdown",
   "metadata": {},
   "source": [
    "Vi fick kompletterande data från arbetsförmedlingen och därför lägger jag nu till siffror för januari månad, 2019 till grunddatat:"
   ]
  },
  {
   "cell_type": "code",
   "execution_count": 8,
   "metadata": {},
   "outputs": [],
   "source": [
    "jan19 = pd.read_excel('data/jan19.xlsx')"
   ]
  },
  {
   "cell_type": "code",
   "execution_count": 9,
   "metadata": {},
   "outputs": [],
   "source": [
    "jan19['period'] = \"2019-01\""
   ]
  },
  {
   "cell_type": "code",
   "execution_count": 10,
   "metadata": {},
   "outputs": [],
   "source": [
    "# Lägger till januari 2019:\n",
    "df = pd.concat([df,jan19])"
   ]
  },
  {
   "cell_type": "markdown",
   "metadata": {},
   "source": [
    "#### Befolkningen i arbetsför ålder"
   ]
  },
  {
   "cell_type": "code",
   "execution_count": 11,
   "metadata": {},
   "outputs": [],
   "source": [
    "files = [x for x in os.listdir('data') if \"BE01\" in x]"
   ]
  },
  {
   "cell_type": "code",
   "execution_count": 12,
   "metadata": {},
   "outputs": [],
   "source": [
    "tmp = pd.DataFrame()\n",
    "for file in files:\n",
    "    tmp = pd.concat([tmp,pd.read_csv(f\"data/{file}\",sep=',',encoding='iso-8859-1')]).reset_index(drop=True)"
   ]
  },
  {
   "cell_type": "code",
   "execution_count": 13,
   "metadata": {},
   "outputs": [],
   "source": [
    "tmp.region = tmp.region.apply(lambda x: x[4:].strip())"
   ]
  },
  {
   "cell_type": "code",
   "execution_count": 14,
   "metadata": {},
   "outputs": [],
   "source": [
    "tmp = tmp.groupby(['region','år']).sum().reset_index()\n",
    "tmp.columns = ['kommun_beskr','period','befolkning']"
   ]
  },
  {
   "cell_type": "code",
   "execution_count": 15,
   "metadata": {},
   "outputs": [
    {
     "data": {
      "text/plain": [
       "kommun_beskr    object\n",
       "period           int64\n",
       "befolkning       int64\n",
       "dtype: object"
      ]
     },
     "execution_count": 15,
     "metadata": {},
     "output_type": "execute_result"
    }
   ],
   "source": [
    "tmp.dtypes"
   ]
  },
  {
   "cell_type": "code",
   "execution_count": 16,
   "metadata": {},
   "outputs": [],
   "source": [
    "df['period'] = df['period'].apply(lambda x: int(x[:4].strip()))"
   ]
  },
  {
   "cell_type": "code",
   "execution_count": 17,
   "metadata": {},
   "outputs": [],
   "source": [
    "tmp['period'] = tmp['period']+1"
   ]
  },
  {
   "cell_type": "code",
   "execution_count": 18,
   "metadata": {},
   "outputs": [],
   "source": [
    "df = df[df['period']>2009].merge(tmp,on=['kommun_beskr','period'],how='left')"
   ]
  },
  {
   "cell_type": "code",
   "execution_count": 19,
   "metadata": {},
   "outputs": [],
   "source": [
    "if not os.path.isdir('res'):\n",
    "    os.makedirs('res')"
   ]
  },
  {
   "cell_type": "code",
   "execution_count": 20,
   "metadata": {},
   "outputs": [],
   "source": [
    "df['andel_arblös'] = ((df['sum_insal']/df['befolkning'])*100).round(1)\n",
    "df['andel_långtid'] = ((df['sum_ua12']/df['befolkning'])*100).round(1)"
   ]
  },
  {
   "cell_type": "code",
   "execution_count": 21,
   "metadata": {},
   "outputs": [],
   "source": [
    "df[df['period']==2019][['kommun_beskr','andel_långtid','andel_arblös']]\\\n",
    "    .sort_values('andel_långtid',ascending=False)\\\n",
    "    .reset_index(drop=True)\\\n",
    "    .to_excel('res/res1.xlsx',index=False)"
   ]
  },
  {
   "cell_type": "code",
   "execution_count": 22,
   "metadata": {},
   "outputs": [],
   "source": [
    "df = df[df['period']==2019][['kommun_beskr','andel_långtid','andel_arblös']]\\\n",
    "    .sort_values('andel_långtid',ascending=False)\\\n",
    "    .reset_index(drop=True)"
   ]
  },
  {
   "cell_type": "code",
   "execution_count": 23,
   "metadata": {},
   "outputs": [],
   "source": [
    "utrikes = pd.read_excel('data/jan19_utrikes.xlsx')"
   ]
  },
  {
   "cell_type": "code",
   "execution_count": 24,
   "metadata": {},
   "outputs": [],
   "source": [
    "utrikes = utrikes.merge(tmp[tmp['period']==2019].drop('period',axis=1),on='kommun_beskr',how='left')[['kommun_beskr','sum_ua12','befolkning']]"
   ]
  },
  {
   "cell_type": "code",
   "execution_count": 25,
   "metadata": {},
   "outputs": [],
   "source": [
    "utrikes['andel_långtid_utrik'] = ((utrikes['sum_ua12']/utrikes['befolkning'])*100).round(1)"
   ]
  },
  {
   "cell_type": "markdown",
   "metadata": {},
   "source": [
    "Fruktansvärt många vändor här. Men såhär landade vi till slut. Vi bestämde oss för att strunta i årsjämförelser och enbart beskriva dagsläget i varje kommun. Men vi har också lagt till utrikesfödda i statistiken då det är en så pass viktig del för att begripa varför det ser ut som det gör. Det här har varit en pärs."
   ]
  },
  {
   "cell_type": "code",
   "execution_count": 26,
   "metadata": {},
   "outputs": [],
   "source": [
    "df.merge(utrikes[['kommun_beskr','andel_långtid_utrik']],\n",
    "         on='kommun_beskr',\n",
    "         how='left')[['kommun_beskr',\n",
    "                      'andel_långtid_utrik',\n",
    "                      'andel_långtid',\n",
    "                      'andel_arblös']].to_excel('res/res2.xlsx',index=False)"
   ]
  },
  {
   "cell_type": "markdown",
   "metadata": {},
   "source": [
    "### Riket"
   ]
  },
  {
   "cell_type": "code",
   "execution_count": 27,
   "metadata": {},
   "outputs": [],
   "source": [
    "df = pd.read_csv('data/inskrivna_arbetslösa_kön_ålder_2006-2018.txt',sep=',',encoding='iso-8859-1')"
   ]
  },
  {
   "cell_type": "code",
   "execution_count": 28,
   "metadata": {},
   "outputs": [],
   "source": [
    "df.columns = df.columns.str.replace('\\(','_').str.replace('\\)','').str.lower()"
   ]
  },
  {
   "cell_type": "code",
   "execution_count": 29,
   "metadata": {},
   "outputs": [],
   "source": [
    "df = df.groupby(['period','kommun_beskr']).sum().reset_index()"
   ]
  },
  {
   "cell_type": "code",
   "execution_count": 30,
   "metadata": {},
   "outputs": [
    {
     "data": {
      "text/html": [
       "<div>\n",
       "<style scoped>\n",
       "    .dataframe tbody tr th:only-of-type {\n",
       "        vertical-align: middle;\n",
       "    }\n",
       "\n",
       "    .dataframe tbody tr th {\n",
       "        vertical-align: top;\n",
       "    }\n",
       "\n",
       "    .dataframe thead th {\n",
       "        text-align: right;\n",
       "    }\n",
       "</style>\n",
       "<table border=\"1\" class=\"dataframe\">\n",
       "  <thead>\n",
       "    <tr style=\"text-align: right;\">\n",
       "      <th></th>\n",
       "      <th>kommun_beskr</th>\n",
       "      <th>sum_insal</th>\n",
       "      <th>sum_ua06</th>\n",
       "      <th>sum_ua12</th>\n",
       "      <th>sum_ua24</th>\n",
       "      <th>period</th>\n",
       "    </tr>\n",
       "  </thead>\n",
       "  <tbody>\n",
       "    <tr>\n",
       "      <th>0</th>\n",
       "      <td>Karlshamn</td>\n",
       "      <td>1463</td>\n",
       "      <td>846</td>\n",
       "      <td>638</td>\n",
       "      <td>349</td>\n",
       "      <td>2019-01</td>\n",
       "    </tr>\n",
       "    <tr>\n",
       "      <th>1</th>\n",
       "      <td>Karlskrona</td>\n",
       "      <td>2540</td>\n",
       "      <td>1396</td>\n",
       "      <td>1027</td>\n",
       "      <td>542</td>\n",
       "      <td>2019-01</td>\n",
       "    </tr>\n",
       "    <tr>\n",
       "      <th>2</th>\n",
       "      <td>Olofström</td>\n",
       "      <td>686</td>\n",
       "      <td>441</td>\n",
       "      <td>330</td>\n",
       "      <td>173</td>\n",
       "      <td>2019-01</td>\n",
       "    </tr>\n",
       "    <tr>\n",
       "      <th>3</th>\n",
       "      <td>Ronneby</td>\n",
       "      <td>1833</td>\n",
       "      <td>1197</td>\n",
       "      <td>944</td>\n",
       "      <td>622</td>\n",
       "      <td>2019-01</td>\n",
       "    </tr>\n",
       "    <tr>\n",
       "      <th>4</th>\n",
       "      <td>Sölvesborg</td>\n",
       "      <td>696</td>\n",
       "      <td>385</td>\n",
       "      <td>275</td>\n",
       "      <td>147</td>\n",
       "      <td>2019-01</td>\n",
       "    </tr>\n",
       "  </tbody>\n",
       "</table>\n",
       "</div>"
      ],
      "text/plain": [
       "  kommun_beskr  sum_insal  sum_ua06  sum_ua12  sum_ua24   period\n",
       "0    Karlshamn       1463       846       638       349  2019-01\n",
       "1   Karlskrona       2540      1396      1027       542  2019-01\n",
       "2    Olofström        686       441       330       173  2019-01\n",
       "3      Ronneby       1833      1197       944       622  2019-01\n",
       "4   Sölvesborg        696       385       275       147  2019-01"
      ]
     },
     "execution_count": 30,
     "metadata": {},
     "output_type": "execute_result"
    }
   ],
   "source": [
    "jan19.head()"
   ]
  },
  {
   "cell_type": "code",
   "execution_count": 31,
   "metadata": {},
   "outputs": [],
   "source": [
    "df = pd.concat([df,jan19])"
   ]
  },
  {
   "cell_type": "markdown",
   "metadata": {},
   "source": [
    "För att kunna göra jämförelser år till år vill vi endast kolla januari månad."
   ]
  },
  {
   "cell_type": "code",
   "execution_count": 32,
   "metadata": {},
   "outputs": [],
   "source": [
    "df = df.loc[df['period'].str.contains(\"-01\")]"
   ]
  },
  {
   "cell_type": "markdown",
   "metadata": {},
   "source": [
    "Summera alla inskrivna totalt och de som varit inskrivna 12 månader eller längre."
   ]
  },
  {
   "cell_type": "code",
   "execution_count": 33,
   "metadata": {},
   "outputs": [],
   "source": [
    "df = df.groupby('period').sum()[['sum_insal','sum_ua12']]"
   ]
  },
  {
   "cell_type": "code",
   "execution_count": 34,
   "metadata": {},
   "outputs": [],
   "source": [
    "df.index = df.index.str.replace('-01','')"
   ]
  },
  {
   "cell_type": "code",
   "execution_count": 35,
   "metadata": {},
   "outputs": [],
   "source": [
    "df = df.reset_index()"
   ]
  },
  {
   "cell_type": "markdown",
   "metadata": {},
   "source": [
    "Döper om kolumnnamnen:"
   ]
  },
  {
   "cell_type": "code",
   "execution_count": 36,
   "metadata": {},
   "outputs": [],
   "source": [
    "df.columns = ['År','Öppet arbetslösa','Långtidsarbetslösa (12 mån+)']"
   ]
  },
  {
   "cell_type": "code",
   "execution_count": 37,
   "metadata": {},
   "outputs": [],
   "source": [
    "df.to_excel('res/riket.xlsx',index=False)"
   ]
  },
  {
   "cell_type": "code",
   "execution_count": null,
   "metadata": {},
   "outputs": [],
   "source": []
  },
  {
   "cell_type": "code",
   "execution_count": null,
   "metadata": {},
   "outputs": [],
   "source": []
  },
  {
   "cell_type": "code",
   "execution_count": null,
   "metadata": {},
   "outputs": [],
   "source": []
  },
  {
   "cell_type": "code",
   "execution_count": null,
   "metadata": {},
   "outputs": [],
   "source": []
  }
 ],
 "metadata": {
  "kernelspec": {
   "display_name": "Python 3",
   "language": "python",
   "name": "python3"
  },
  "language_info": {
   "codemirror_mode": {
    "name": "ipython",
    "version": 3
   },
   "file_extension": ".py",
   "mimetype": "text/x-python",
   "name": "python",
   "nbconvert_exporter": "python",
   "pygments_lexer": "ipython3",
   "version": "3.7.2"
  }
 },
 "nbformat": 4,
 "nbformat_minor": 2
}
